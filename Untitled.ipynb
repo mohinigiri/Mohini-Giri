{
 "cells": [
  {
   "cell_type": "code",
   "execution_count": 1,
   "id": "edcae6e5",
   "metadata": {},
   "outputs": [
    {
     "data": {
      "text/plain": [
       "7"
      ]
     },
     "execution_count": 1,
     "metadata": {},
     "output_type": "execute_result"
    }
   ],
   "source": [
    "2+5"
   ]
  },
  {
   "cell_type": "code",
   "execution_count": 2,
   "id": "7cff93b2",
   "metadata": {},
   "outputs": [],
   "source": [
    "#mohini"
   ]
  },
  {
   "cell_type": "markdown",
   "id": "ecb43009",
   "metadata": {},
   "source": [
    "# mohini"
   ]
  },
  {
   "cell_type": "markdown",
   "id": "b1eec825",
   "metadata": {},
   "source": [
    "#### mohini"
   ]
  },
  {
   "cell_type": "code",
   "execution_count": null,
   "id": "594f054f",
   "metadata": {},
   "outputs": [],
   "source": []
  }
 ],
 "metadata": {
  "kernelspec": {
   "display_name": "Python 3 (ipykernel)",
   "language": "python",
   "name": "python3"
  },
  "language_info": {
   "codemirror_mode": {
    "name": "ipython",
    "version": 3
   },
   "file_extension": ".py",
   "mimetype": "text/x-python",
   "name": "python",
   "nbconvert_exporter": "python",
   "pygments_lexer": "ipython3",
   "version": "3.9.13"
  }
 },
 "nbformat": 4,
 "nbformat_minor": 5
}
